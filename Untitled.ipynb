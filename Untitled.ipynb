{
 "cells": [
  {
   "cell_type": "markdown",
   "id": "b2854740-39a4-4539-97f9-fef5d6e55ea0",
   "metadata": {
    "tags": []
   },
   "source": [
    "# 因果推論100本ノック(1)因果効果とランダム割付"
   ]
  },
  {
   "cell_type": "markdown",
   "id": "6c212f31-f0bd-4b4e-8dea-ed868fcc3176",
   "metadata": {},
   "source": [
    "ref: https://zenn.dev/s1ok69oo/articles/909ca2e858f43c"
   ]
  },
  {
   "cell_type": "markdown",
   "id": "975e2d6f-2edf-474f-a813-7151b47e1ebf",
   "metadata": {},
   "source": [
    "<table>\n",
    "<thead>\n",
    "<tr>\n",
    "<th>変数名</th>\n",
    "<th>データの概要</th>\n",
    "<th>備考</th>\n",
    "</tr>\n",
    "</thead>\n",
    "<tbody>\n",
    "<tr>\n",
    "<td>y</td>\n",
    "<td>今季の受注件数</td>\n",
    "<td>観測される</td>\n",
    "</tr>\n",
    "<tr>\n",
    "<td>x</td>\n",
    "<td>前季の受注件数</td>\n",
    "<td>観測される</td>\n",
    "</tr>\n",
    "<tr>\n",
    "<td>t</td>\n",
    "<td>分析レポートが提供されたかどうかを表すダミー変数</td>\n",
    "<td>1: 提供された, 0:　提供されなかった</td>\n",
    "</tr>\n",
    "<tr>\n",
    "<td>y_t1</td>\n",
    "<td>分析レポートが提供された場合の今季の受注件数</td>\n",
    "<td>潜在的結果変数<embed-katex><span class=\"katex\"><span class=\"katex-mathml\"><math xmlns=\"http://www.w3.org/1998/Math/MathML\"><semantics><mrow><msub><mi>Y</mi><mn>1</mn></msub></mrow><annotation encoding=\"application/x-tex\">Y_1</annotation></semantics></math></span><span class=\"katex-html\" aria-hidden=\"true\"><span class=\"base\"><span class=\"strut\" style=\"height: 0.83333em; vertical-align: -0.15em;\"></span><span class=\"mord\"><span class=\"mord mathnormal\" style=\"margin-right: 0.22222em;\">Y</span><span class=\"msupsub\"><span class=\"vlist-t vlist-t2\"><span class=\"vlist-r\"><span class=\"vlist\" style=\"height: 0.301108em;\"><span class=\"\" style=\"top: -2.55em; margin-left: -0.22222em; margin-right: 0.05em;\"><span class=\"pstrut\" style=\"height: 2.7em;\"></span><span class=\"sizing reset-size6 size3 mtight\"><span class=\"mord mtight\">1</span></span></span></span><span class=\"vlist-s\">​</span></span><span class=\"vlist-r\"><span class=\"vlist\" style=\"height: 0.15em;\"><span class=\"\"></span></span></span></span></span></span></span></span></span></embed-katex>\n",
    "</td>\n",
    "</tr>\n",
    "<tr>\n",
    "<td>y_t0</td>\n",
    "<td>分析レポートが提供されなかった場合の今季の受注件数</td>\n",
    "<td>潜在的結果変数<embed-katex><span class=\"katex\"><span class=\"katex-mathml\"><math xmlns=\"http://www.w3.org/1998/Math/MathML\"><semantics><mrow><msub><mi>Y</mi><mn>0</mn></msub></mrow><annotation encoding=\"application/x-tex\">Y_0</annotation></semantics></math></span><span class=\"katex-html\" aria-hidden=\"true\"><span class=\"base\"><span class=\"strut\" style=\"height: 0.83333em; vertical-align: -0.15em;\"></span><span class=\"mord\"><span class=\"mord mathnormal\" style=\"margin-right: 0.22222em;\">Y</span><span class=\"msupsub\"><span class=\"vlist-t vlist-t2\"><span class=\"vlist-r\"><span class=\"vlist\" style=\"height: 0.301108em;\"><span class=\"\" style=\"top: -2.55em; margin-left: -0.22222em; margin-right: 0.05em;\"><span class=\"pstrut\" style=\"height: 2.7em;\"></span><span class=\"sizing reset-size6 size3 mtight\"><span class=\"mord mtight\">0</span></span></span></span><span class=\"vlist-s\">​</span></span><span class=\"vlist-r\"><span class=\"vlist\" style=\"height: 0.15em;\"><span class=\"\"></span></span></span></span></span></span></span></span></span></embed-katex>\n",
    "</td>\n",
    "</tr>\n",
    "</tbody>\n",
    "</table>"
   ]
  },
  {
   "cell_type": "markdown",
   "id": "f7db5dc5-0f7e-41ac-b9ec-fc6493ae493f",
   "metadata": {},
   "source": [
    "## No.1 データの読み込み\n",
    "csvファイルを読み込みdfに格納してください"
   ]
  },
  {
   "cell_type": "code",
   "execution_count": 1,
   "id": "595ba12b-03ef-4a64-afd9-8707a8096a0e",
   "metadata": {},
   "outputs": [],
   "source": [
    "import pandas as pd\n",
    "import polars as pl"
   ]
  },
  {
   "cell_type": "code",
   "execution_count": 2,
   "id": "02e245eb-9ff4-41ff-aa29-cfc64a698a46",
   "metadata": {},
   "outputs": [],
   "source": [
    "df = pd.read_csv('./data/causal_knock1.csv')"
   ]
  },
  {
   "cell_type": "markdown",
   "id": "ae3e1652-e55a-437e-b625-fa3ce9c88704",
   "metadata": {},
   "source": [
    "## No.2 DAGの描画\n",
    "観測されるデータのDAGを描いてください"
   ]
  },
  {
   "cell_type": "code",
   "execution_count": 3,
   "id": "a3456588-c953-45d0-80a9-09badc66e607",
   "metadata": {},
   "outputs": [],
   "source": [
    "import networkx as nx"
   ]
  },
  {
   "cell_type": "code",
   "execution_count": 4,
   "id": "f53aa593-cef8-40b5-8503-39fd9ae63568",
   "metadata": {},
   "outputs": [],
   "source": [
    "digraph = nx.from_edgelist([('x', 'y'), ('t', 'y')], create_using=nx.DiGraph)"
   ]
  },
  {
   "cell_type": "code",
   "execution_count": 5,
   "id": "35a0c2c5-a468-4bcf-b55a-05b17bde6dab",
   "metadata": {},
   "outputs": [
    {
     "data": {
      "image/png": "[encoded data removed]",
      "text/plain": [
       "<Figure size 432x288 with 1 Axes>"
      ]
     },
     "metadata": {},
     "output_type": "display_data"
    }
   ],
   "source": [
    "nx.draw(\n",
    "    digraph,\n",
    "    with_labels=True,\n",
    "    node_size=3000,\n",
    "    node_color=\"#ffff8f\",\n",
    ")"
   ]
  },
  {
   "cell_type": "markdown",
   "id": "be45343d-193e-4872-83ea-7c3e8cbd538b",
   "metadata": {},
   "source": [
    "## No.3 ナイーブな前後比較\n",
    "今季の受注件数と前季の受注件数の差の平均値を計算してください"
   ]
  },
  {
   "cell_type": "code",
   "execution_count": 6,
   "id": "bde71a8e-1786-400a-b813-0d44a4e61864",
   "metadata": {},
   "outputs": [],
   "source": [
    "df['diff'] = df.apply(lambda row: row['y'] - row['x'], axis=1)"
   ]
  },
  {
   "cell_type": "code",
   "execution_count": null,
   "id": "4fd846a5-9d0c-47ba-aeb7-340f16d23380",
   "metadata": {},
   "outputs": [],
   "source": []
  },
  {
   "cell_type": "markdown",
   "id": "cf323e3c-83ef-4c2e-8fd2-69e9cb11ecc3",
   "metadata": {},
   "source": [
    "## No.4 ITEの計算\n",
    "潜在的結果変数を用いて，ITEを計算してください"
   ]
  },
  {
   "cell_type": "code",
   "execution_count": 8,
   "id": "967373a3-52ec-4617-a984-f25fa9c6b353",
   "metadata": {},
   "outputs": [
    {
     "data": {
      "text/plain": [
       "Index(['y', 'x', 't', 'y_t1', 'y_t0', 'diff'], dtype='object')"
      ]
     },
     "execution_count": 8,
     "metadata": {},
     "output_type": "execute_result"
    }
   ],
   "source": [
    "df.columns"
   ]
  },
  {
   "cell_type": "code",
   "execution_count": 9,
   "id": "b83319de-c3ad-4f16-af93-a4d5c8d33b0c",
   "metadata": {},
   "outputs": [],
   "source": [
    "df['ite'] = df.apply(lambda row: row['y_t1'] - row['y_t0'], axis=1)"
   ]
  },
  {
   "cell_type": "code",
   "execution_count": 10,
   "id": "65612943-7c78-4b85-b579-3249d59ce89a",
   "metadata": {},
   "outputs": [
    {
     "data": {
      "text/html": [
       "<div>\n",
       "<style scoped>\n",
       "    .dataframe tbody tr th:only-of-type {\n",
       "        vertical-align: middle;\n",
       "    }\n",
       "\n",
       "    .dataframe tbody tr th {\n",
       "        vertical-align: top;\n",
       "    }\n",
       "\n",
       "    .dataframe thead th {\n",
       "        text-align: right;\n",
       "    }\n",
       "</style>\n",
       "<table border=\"1\" class=\"dataframe\">\n",
       "  <thead>\n",
       "    <tr style=\"text-align: right;\">\n",
       "      <th></th>\n",
       "      <th>y</th>\n",
       "      <th>x</th>\n",
       "      <th>t</th>\n",
       "      <th>y_t1</th>\n",
       "      <th>y_t0</th>\n",
       "      <th>diff</th>\n",
       "      <th>ite</th>\n",
       "    </tr>\n",
       "  </thead>\n",
       "  <tbody>\n",
       "    <tr>\n",
       "      <th>0</th>\n",
       "      <td>10</td>\n",
       "      <td>12</td>\n",
       "      <td>0</td>\n",
       "      <td>15</td>\n",
       "      <td>10</td>\n",
       "      <td>-2</td>\n",
       "      <td>5</td>\n",
       "    </tr>\n",
       "    <tr>\n",
       "      <th>1</th>\n",
       "      <td>16</td>\n",
       "      <td>15</td>\n",
       "      <td>1</td>\n",
       "      <td>16</td>\n",
       "      <td>11</td>\n",
       "      <td>1</td>\n",
       "      <td>5</td>\n",
       "    </tr>\n",
       "    <tr>\n",
       "      <th>2</th>\n",
       "      <td>15</td>\n",
       "      <td>21</td>\n",
       "      <td>0</td>\n",
       "      <td>20</td>\n",
       "      <td>15</td>\n",
       "      <td>-6</td>\n",
       "      <td>5</td>\n",
       "    </tr>\n",
       "    <tr>\n",
       "      <th>3</th>\n",
       "      <td>4</td>\n",
       "      <td>0</td>\n",
       "      <td>1</td>\n",
       "      <td>4</td>\n",
       "      <td>0</td>\n",
       "      <td>4</td>\n",
       "      <td>4</td>\n",
       "    </tr>\n",
       "    <tr>\n",
       "      <th>4</th>\n",
       "      <td>7</td>\n",
       "      <td>3</td>\n",
       "      <td>1</td>\n",
       "      <td>7</td>\n",
       "      <td>2</td>\n",
       "      <td>4</td>\n",
       "      <td>5</td>\n",
       "    </tr>\n",
       "    <tr>\n",
       "      <th>5</th>\n",
       "      <td>26</td>\n",
       "      <td>27</td>\n",
       "      <td>1</td>\n",
       "      <td>26</td>\n",
       "      <td>21</td>\n",
       "      <td>-1</td>\n",
       "      <td>5</td>\n",
       "    </tr>\n",
       "    <tr>\n",
       "      <th>6</th>\n",
       "      <td>6</td>\n",
       "      <td>3</td>\n",
       "      <td>1</td>\n",
       "      <td>6</td>\n",
       "      <td>1</td>\n",
       "      <td>3</td>\n",
       "      <td>5</td>\n",
       "    </tr>\n",
       "    <tr>\n",
       "      <th>7</th>\n",
       "      <td>11</td>\n",
       "      <td>7</td>\n",
       "      <td>1</td>\n",
       "      <td>11</td>\n",
       "      <td>6</td>\n",
       "      <td>4</td>\n",
       "      <td>5</td>\n",
       "    </tr>\n",
       "    <tr>\n",
       "      <th>8</th>\n",
       "      <td>7</td>\n",
       "      <td>9</td>\n",
       "      <td>0</td>\n",
       "      <td>12</td>\n",
       "      <td>7</td>\n",
       "      <td>-2</td>\n",
       "      <td>5</td>\n",
       "    </tr>\n",
       "    <tr>\n",
       "      <th>9</th>\n",
       "      <td>13</td>\n",
       "      <td>19</td>\n",
       "      <td>0</td>\n",
       "      <td>18</td>\n",
       "      <td>13</td>\n",
       "      <td>-6</td>\n",
       "      <td>5</td>\n",
       "    </tr>\n",
       "    <tr>\n",
       "      <th>10</th>\n",
       "      <td>23</td>\n",
       "      <td>21</td>\n",
       "      <td>1</td>\n",
       "      <td>23</td>\n",
       "      <td>18</td>\n",
       "      <td>2</td>\n",
       "      <td>5</td>\n",
       "    </tr>\n",
       "    <tr>\n",
       "      <th>11</th>\n",
       "      <td>16</td>\n",
       "      <td>18</td>\n",
       "      <td>0</td>\n",
       "      <td>21</td>\n",
       "      <td>16</td>\n",
       "      <td>-2</td>\n",
       "      <td>5</td>\n",
       "    </tr>\n",
       "    <tr>\n",
       "      <th>12</th>\n",
       "      <td>9</td>\n",
       "      <td>4</td>\n",
       "      <td>1</td>\n",
       "      <td>9</td>\n",
       "      <td>4</td>\n",
       "      <td>5</td>\n",
       "      <td>5</td>\n",
       "    </tr>\n",
       "    <tr>\n",
       "      <th>13</th>\n",
       "      <td>23</td>\n",
       "      <td>23</td>\n",
       "      <td>1</td>\n",
       "      <td>23</td>\n",
       "      <td>18</td>\n",
       "      <td>0</td>\n",
       "      <td>5</td>\n",
       "    </tr>\n",
       "    <tr>\n",
       "      <th>14</th>\n",
       "      <td>3</td>\n",
       "      <td>6</td>\n",
       "      <td>0</td>\n",
       "      <td>8</td>\n",
       "      <td>3</td>\n",
       "      <td>-3</td>\n",
       "      <td>5</td>\n",
       "    </tr>\n",
       "    <tr>\n",
       "      <th>15</th>\n",
       "      <td>20</td>\n",
       "      <td>24</td>\n",
       "      <td>0</td>\n",
       "      <td>25</td>\n",
       "      <td>20</td>\n",
       "      <td>-4</td>\n",
       "      <td>5</td>\n",
       "    </tr>\n",
       "    <tr>\n",
       "      <th>16</th>\n",
       "      <td>18</td>\n",
       "      <td>24</td>\n",
       "      <td>0</td>\n",
       "      <td>23</td>\n",
       "      <td>18</td>\n",
       "      <td>-6</td>\n",
       "      <td>5</td>\n",
       "    </tr>\n",
       "    <tr>\n",
       "      <th>17</th>\n",
       "      <td>10</td>\n",
       "      <td>12</td>\n",
       "      <td>0</td>\n",
       "      <td>15</td>\n",
       "      <td>10</td>\n",
       "      <td>-2</td>\n",
       "      <td>5</td>\n",
       "    </tr>\n",
       "    <tr>\n",
       "      <th>18</th>\n",
       "      <td>26</td>\n",
       "      <td>26</td>\n",
       "      <td>1</td>\n",
       "      <td>26</td>\n",
       "      <td>21</td>\n",
       "      <td>0</td>\n",
       "      <td>5</td>\n",
       "    </tr>\n",
       "    <tr>\n",
       "      <th>19</th>\n",
       "      <td>1</td>\n",
       "      <td>1</td>\n",
       "      <td>0</td>\n",
       "      <td>6</td>\n",
       "      <td>1</td>\n",
       "      <td>0</td>\n",
       "      <td>5</td>\n",
       "    </tr>\n",
       "    <tr>\n",
       "      <th>20</th>\n",
       "      <td>10</td>\n",
       "      <td>6</td>\n",
       "      <td>1</td>\n",
       "      <td>10</td>\n",
       "      <td>5</td>\n",
       "      <td>4</td>\n",
       "      <td>5</td>\n",
       "    </tr>\n",
       "    <tr>\n",
       "      <th>21</th>\n",
       "      <td>6</td>\n",
       "      <td>7</td>\n",
       "      <td>0</td>\n",
       "      <td>11</td>\n",
       "      <td>6</td>\n",
       "      <td>-1</td>\n",
       "      <td>5</td>\n",
       "    </tr>\n",
       "    <tr>\n",
       "      <th>22</th>\n",
       "      <td>18</td>\n",
       "      <td>23</td>\n",
       "      <td>0</td>\n",
       "      <td>23</td>\n",
       "      <td>18</td>\n",
       "      <td>-5</td>\n",
       "      <td>5</td>\n",
       "    </tr>\n",
       "    <tr>\n",
       "      <th>23</th>\n",
       "      <td>12</td>\n",
       "      <td>14</td>\n",
       "      <td>0</td>\n",
       "      <td>17</td>\n",
       "      <td>12</td>\n",
       "      <td>-2</td>\n",
       "      <td>5</td>\n",
       "    </tr>\n",
       "    <tr>\n",
       "      <th>24</th>\n",
       "      <td>24</td>\n",
       "      <td>24</td>\n",
       "      <td>1</td>\n",
       "      <td>24</td>\n",
       "      <td>19</td>\n",
       "      <td>0</td>\n",
       "      <td>5</td>\n",
       "    </tr>\n",
       "    <tr>\n",
       "      <th>25</th>\n",
       "      <td>14</td>\n",
       "      <td>17</td>\n",
       "      <td>0</td>\n",
       "      <td>19</td>\n",
       "      <td>14</td>\n",
       "      <td>-3</td>\n",
       "      <td>5</td>\n",
       "    </tr>\n",
       "    <tr>\n",
       "      <th>26</th>\n",
       "      <td>5</td>\n",
       "      <td>5</td>\n",
       "      <td>0</td>\n",
       "      <td>10</td>\n",
       "      <td>5</td>\n",
       "      <td>0</td>\n",
       "      <td>5</td>\n",
       "    </tr>\n",
       "    <tr>\n",
       "      <th>27</th>\n",
       "      <td>18</td>\n",
       "      <td>25</td>\n",
       "      <td>0</td>\n",
       "      <td>23</td>\n",
       "      <td>18</td>\n",
       "      <td>-7</td>\n",
       "      <td>5</td>\n",
       "    </tr>\n",
       "    <tr>\n",
       "      <th>28</th>\n",
       "      <td>9</td>\n",
       "      <td>13</td>\n",
       "      <td>0</td>\n",
       "      <td>14</td>\n",
       "      <td>9</td>\n",
       "      <td>-4</td>\n",
       "      <td>5</td>\n",
       "    </tr>\n",
       "    <tr>\n",
       "      <th>29</th>\n",
       "      <td>7</td>\n",
       "      <td>8</td>\n",
       "      <td>0</td>\n",
       "      <td>12</td>\n",
       "      <td>7</td>\n",
       "      <td>-1</td>\n",
       "      <td>5</td>\n",
       "    </tr>\n",
       "    <tr>\n",
       "      <th>30</th>\n",
       "      <td>11</td>\n",
       "      <td>9</td>\n",
       "      <td>1</td>\n",
       "      <td>11</td>\n",
       "      <td>6</td>\n",
       "      <td>2</td>\n",
       "      <td>5</td>\n",
       "    </tr>\n",
       "    <tr>\n",
       "      <th>31</th>\n",
       "      <td>17</td>\n",
       "      <td>20</td>\n",
       "      <td>0</td>\n",
       "      <td>22</td>\n",
       "      <td>17</td>\n",
       "      <td>-3</td>\n",
       "      <td>5</td>\n",
       "    </tr>\n",
       "    <tr>\n",
       "      <th>32</th>\n",
       "      <td>14</td>\n",
       "      <td>19</td>\n",
       "      <td>0</td>\n",
       "      <td>19</td>\n",
       "      <td>14</td>\n",
       "      <td>-5</td>\n",
       "      <td>5</td>\n",
       "    </tr>\n",
       "    <tr>\n",
       "      <th>33</th>\n",
       "      <td>12</td>\n",
       "      <td>16</td>\n",
       "      <td>0</td>\n",
       "      <td>17</td>\n",
       "      <td>12</td>\n",
       "      <td>-4</td>\n",
       "      <td>5</td>\n",
       "    </tr>\n",
       "    <tr>\n",
       "      <th>34</th>\n",
       "      <td>22</td>\n",
       "      <td>19</td>\n",
       "      <td>1</td>\n",
       "      <td>22</td>\n",
       "      <td>17</td>\n",
       "      <td>3</td>\n",
       "      <td>5</td>\n",
       "    </tr>\n",
       "    <tr>\n",
       "      <th>35</th>\n",
       "      <td>5</td>\n",
       "      <td>5</td>\n",
       "      <td>0</td>\n",
       "      <td>10</td>\n",
       "      <td>5</td>\n",
       "      <td>0</td>\n",
       "      <td>5</td>\n",
       "    </tr>\n",
       "    <tr>\n",
       "      <th>36</th>\n",
       "      <td>18</td>\n",
       "      <td>15</td>\n",
       "      <td>1</td>\n",
       "      <td>18</td>\n",
       "      <td>13</td>\n",
       "      <td>3</td>\n",
       "      <td>5</td>\n",
       "    </tr>\n",
       "    <tr>\n",
       "      <th>37</th>\n",
       "      <td>12</td>\n",
       "      <td>15</td>\n",
       "      <td>0</td>\n",
       "      <td>17</td>\n",
       "      <td>12</td>\n",
       "      <td>-3</td>\n",
       "      <td>5</td>\n",
       "    </tr>\n",
       "    <tr>\n",
       "      <th>38</th>\n",
       "      <td>4</td>\n",
       "      <td>0</td>\n",
       "      <td>1</td>\n",
       "      <td>4</td>\n",
       "      <td>0</td>\n",
       "      <td>4</td>\n",
       "      <td>4</td>\n",
       "    </tr>\n",
       "    <tr>\n",
       "      <th>39</th>\n",
       "      <td>16</td>\n",
       "      <td>18</td>\n",
       "      <td>0</td>\n",
       "      <td>21</td>\n",
       "      <td>16</td>\n",
       "      <td>-2</td>\n",
       "      <td>5</td>\n",
       "    </tr>\n",
       "    <tr>\n",
       "      <th>40</th>\n",
       "      <td>7</td>\n",
       "      <td>3</td>\n",
       "      <td>1</td>\n",
       "      <td>7</td>\n",
       "      <td>2</td>\n",
       "      <td>4</td>\n",
       "      <td>5</td>\n",
       "    </tr>\n",
       "    <tr>\n",
       "      <th>41</th>\n",
       "      <td>25</td>\n",
       "      <td>24</td>\n",
       "      <td>1</td>\n",
       "      <td>25</td>\n",
       "      <td>20</td>\n",
       "      <td>1</td>\n",
       "      <td>5</td>\n",
       "    </tr>\n",
       "    <tr>\n",
       "      <th>42</th>\n",
       "      <td>19</td>\n",
       "      <td>17</td>\n",
       "      <td>1</td>\n",
       "      <td>19</td>\n",
       "      <td>14</td>\n",
       "      <td>2</td>\n",
       "      <td>5</td>\n",
       "    </tr>\n",
       "    <tr>\n",
       "      <th>43</th>\n",
       "      <td>15</td>\n",
       "      <td>19</td>\n",
       "      <td>0</td>\n",
       "      <td>20</td>\n",
       "      <td>15</td>\n",
       "      <td>-4</td>\n",
       "      <td>5</td>\n",
       "    </tr>\n",
       "    <tr>\n",
       "      <th>44</th>\n",
       "      <td>23</td>\n",
       "      <td>29</td>\n",
       "      <td>0</td>\n",
       "      <td>28</td>\n",
       "      <td>23</td>\n",
       "      <td>-6</td>\n",
       "      <td>5</td>\n",
       "    </tr>\n",
       "    <tr>\n",
       "      <th>45</th>\n",
       "      <td>16</td>\n",
       "      <td>19</td>\n",
       "      <td>0</td>\n",
       "      <td>21</td>\n",
       "      <td>16</td>\n",
       "      <td>-3</td>\n",
       "      <td>5</td>\n",
       "    </tr>\n",
       "    <tr>\n",
       "      <th>46</th>\n",
       "      <td>15</td>\n",
       "      <td>19</td>\n",
       "      <td>0</td>\n",
       "      <td>20</td>\n",
       "      <td>15</td>\n",
       "      <td>-4</td>\n",
       "      <td>5</td>\n",
       "    </tr>\n",
       "    <tr>\n",
       "      <th>47</th>\n",
       "      <td>10</td>\n",
       "      <td>14</td>\n",
       "      <td>0</td>\n",
       "      <td>15</td>\n",
       "      <td>10</td>\n",
       "      <td>-4</td>\n",
       "      <td>5</td>\n",
       "    </tr>\n",
       "    <tr>\n",
       "      <th>48</th>\n",
       "      <td>5</td>\n",
       "      <td>7</td>\n",
       "      <td>0</td>\n",
       "      <td>10</td>\n",
       "      <td>5</td>\n",
       "      <td>-2</td>\n",
       "      <td>5</td>\n",
       "    </tr>\n",
       "    <tr>\n",
       "      <th>49</th>\n",
       "      <td>1</td>\n",
       "      <td>0</td>\n",
       "      <td>0</td>\n",
       "      <td>6</td>\n",
       "      <td>1</td>\n",
       "      <td>1</td>\n",
       "      <td>5</td>\n",
       "    </tr>\n",
       "    <tr>\n",
       "      <th>50</th>\n",
       "      <td>0</td>\n",
       "      <td>1</td>\n",
       "      <td>0</td>\n",
       "      <td>5</td>\n",
       "      <td>0</td>\n",
       "      <td>-1</td>\n",
       "      <td>5</td>\n",
       "    </tr>\n",
       "    <tr>\n",
       "      <th>51</th>\n",
       "      <td>12</td>\n",
       "      <td>9</td>\n",
       "      <td>1</td>\n",
       "      <td>12</td>\n",
       "      <td>7</td>\n",
       "      <td>3</td>\n",
       "      <td>5</td>\n",
       "    </tr>\n",
       "    <tr>\n",
       "      <th>52</th>\n",
       "      <td>24</td>\n",
       "      <td>25</td>\n",
       "      <td>1</td>\n",
       "      <td>24</td>\n",
       "      <td>19</td>\n",
       "      <td>-1</td>\n",
       "      <td>5</td>\n",
       "    </tr>\n",
       "    <tr>\n",
       "      <th>53</th>\n",
       "      <td>1</td>\n",
       "      <td>0</td>\n",
       "      <td>0</td>\n",
       "      <td>6</td>\n",
       "      <td>1</td>\n",
       "      <td>1</td>\n",
       "      <td>5</td>\n",
       "    </tr>\n",
       "    <tr>\n",
       "      <th>54</th>\n",
       "      <td>13</td>\n",
       "      <td>10</td>\n",
       "      <td>1</td>\n",
       "      <td>13</td>\n",
       "      <td>8</td>\n",
       "      <td>3</td>\n",
       "      <td>5</td>\n",
       "    </tr>\n",
       "    <tr>\n",
       "      <th>55</th>\n",
       "      <td>16</td>\n",
       "      <td>20</td>\n",
       "      <td>0</td>\n",
       "      <td>21</td>\n",
       "      <td>16</td>\n",
       "      <td>-4</td>\n",
       "      <td>5</td>\n",
       "    </tr>\n",
       "    <tr>\n",
       "      <th>56</th>\n",
       "      <td>22</td>\n",
       "      <td>23</td>\n",
       "      <td>1</td>\n",
       "      <td>22</td>\n",
       "      <td>17</td>\n",
       "      <td>-1</td>\n",
       "      <td>5</td>\n",
       "    </tr>\n",
       "    <tr>\n",
       "      <th>57</th>\n",
       "      <td>7</td>\n",
       "      <td>3</td>\n",
       "      <td>1</td>\n",
       "      <td>7</td>\n",
       "      <td>2</td>\n",
       "      <td>4</td>\n",
       "      <td>5</td>\n",
       "    </tr>\n",
       "    <tr>\n",
       "      <th>58</th>\n",
       "      <td>8</td>\n",
       "      <td>11</td>\n",
       "      <td>0</td>\n",
       "      <td>13</td>\n",
       "      <td>8</td>\n",
       "      <td>-3</td>\n",
       "      <td>5</td>\n",
       "    </tr>\n",
       "    <tr>\n",
       "      <th>59</th>\n",
       "      <td>19</td>\n",
       "      <td>18</td>\n",
       "      <td>1</td>\n",
       "      <td>19</td>\n",
       "      <td>14</td>\n",
       "      <td>1</td>\n",
       "      <td>5</td>\n",
       "    </tr>\n",
       "  </tbody>\n",
       "</table>\n",
       "</div>"
      ],
      "text/plain": [
       "     y   x  t  y_t1  y_t0  diff  ite\n",
       "0   10  12  0    15    10    -2    5\n",
       "1   16  15  1    16    11     1    5\n",
       "2   15  21  0    20    15    -6    5\n",
       "3    4   0  1     4     0     4    4\n",
       "4    7   3  1     7     2     4    5\n",
       "5   26  27  1    26    21    -1    5\n",
       "6    6   3  1     6     1     3    5\n",
       "7   11   7  1    11     6     4    5\n",
       "8    7   9  0    12     7    -2    5\n",
       "9   13  19  0    18    13    -6    5\n",
       "10  23  21  1    23    18     2    5\n",
       "11  16  18  0    21    16    -2    5\n",
       "12   9   4  1     9     4     5    5\n",
       "13  23  23  1    23    18     0    5\n",
       "14   3   6  0     8     3    -3    5\n",
       "15  20  24  0    25    20    -4    5\n",
       "16  18  24  0    23    18    -6    5\n",
       "17  10  12  0    15    10    -2    5\n",
       "18  26  26  1    26    21     0    5\n",
       "19   1   1  0     6     1     0    5\n",
       "20  10   6  1    10     5     4    5\n",
       "21   6   7  0    11     6    -1    5\n",
       "22  18  23  0    23    18    -5    5\n",
       "23  12  14  0    17    12    -2    5\n",
       "24  24  24  1    24    19     0    5\n",
       "25  14  17  0    19    14    -3    5\n",
       "26   5   5  0    10     5     0    5\n",
       "27  18  25  0    23    18    -7    5\n",
       "28   9  13  0    14     9    -4    5\n",
       "29   7   8  0    12     7    -1    5\n",
       "30  11   9  1    11     6     2    5\n",
       "31  17  20  0    22    17    -3    5\n",
       "32  14  19  0    19    14    -5    5\n",
       "33  12  16  0    17    12    -4    5\n",
       "34  22  19  1    22    17     3    5\n",
       "35   5   5  0    10     5     0    5\n",
       "36  18  15  1    18    13     3    5\n",
       "37  12  15  0    17    12    -3    5\n",
       "38   4   0  1     4     0     4    4\n",
       "39  16  18  0    21    16    -2    5\n",
       "40   7   3  1     7     2     4    5\n",
       "41  25  24  1    25    20     1    5\n",
       "42  19  17  1    19    14     2    5\n",
       "43  15  19  0    20    15    -4    5\n",
       "44  23  29  0    28    23    -6    5\n",
       "45  16  19  0    21    16    -3    5\n",
       "46  15  19  0    20    15    -4    5\n",
       "47  10  14  0    15    10    -4    5\n",
       "48   5   7  0    10     5    -2    5\n",
       "49   1   0  0     6     1     1    5\n",
       "50   0   1  0     5     0    -1    5\n",
       "51  12   9  1    12     7     3    5\n",
       "52  24  25  1    24    19    -1    5\n",
       "53   1   0  0     6     1     1    5\n",
       "54  13  10  1    13     8     3    5\n",
       "55  16  20  0    21    16    -4    5\n",
       "56  22  23  1    22    17    -1    5\n",
       "57   7   3  1     7     2     4    5\n",
       "58   8  11  0    13     8    -3    5\n",
       "59  19  18  1    19    14     1    5"
      ]
     },
     "execution_count": 10,
     "metadata": {},
     "output_type": "execute_result"
    }
   ],
   "source": [
    "df"
   ]
  },
  {
   "cell_type": "markdown",
   "id": "b0a62404-7af3-4c16-8358-5d59039e089a",
   "metadata": {},
   "source": [
    "## No.5 ATEの計算\n",
    "潜在的結果変数を用いて，ATE（平均処置効果）を計算してください"
   ]
  },
  {
   "cell_type": "code",
   "execution_count": 11,
   "id": "1f467232-ce50-44fe-906a-80a97050c6a9",
   "metadata": {},
   "outputs": [],
   "source": [
    "ate = df['ite'].mean()"
   ]
  },
  {
   "cell_type": "code",
   "execution_count": 12,
   "id": "f09c35a7-9ff7-4a42-8bf7-fac86166591c",
   "metadata": {},
   "outputs": [
    {
     "data": {
      "text/plain": [
       "4.97"
      ]
     },
     "execution_count": 12,
     "metadata": {},
     "output_type": "execute_result"
    }
   ],
   "source": [
    "round(ate, 2)"
   ]
  },
  {
   "cell_type": "markdown",
   "id": "32d383a0-e659-4911-a237-d9200cb7805e",
   "metadata": {},
   "source": [
    "## No.6 ATTの計算\n",
    "潜在的結果変数を用いて，ATT（処置群における平均処置効果）を計算してください"
   ]
  },
  {
   "cell_type": "code",
   "execution_count": 13,
   "id": "745f87a0-3427-4f8e-adc7-a388709c7d85",
   "metadata": {},
   "outputs": [],
   "source": [
    "att = df[df['t'] == 1]['y_t1'].mean() - df[df['t'] == 1]['y_t0'].mean()"
   ]
  },
  {
   "cell_type": "code",
   "execution_count": 14,
   "id": "c2bd8599-0d62-4e68-9ef6-5ce35e671621",
   "metadata": {},
   "outputs": [
    {
     "data": {
      "text/plain": [
       "4.92"
      ]
     },
     "execution_count": 14,
     "metadata": {},
     "output_type": "execute_result"
    }
   ],
   "source": [
    "att"
   ]
  },
  {
   "cell_type": "markdown",
   "id": "c1d4e66c-9fa1-406b-b03a-06c31e3ac803",
   "metadata": {},
   "source": [
    "## No.7 CATEの計算\n",
    "潜在的結果変数を用いて，前季の受注件数が10件より多い営業のCATE（条件付き平均処置効果）を計算してください"
   ]
  },
  {
   "cell_type": "code",
   "execution_count": 15,
   "id": "62716299-aa6c-4605-9bdb-a97865a8f3ca",
   "metadata": {},
   "outputs": [],
   "source": [
    "cate = df[df['x'] > 10]['y_t1'].mean() - df[df['x'] > 10]['y_t0'].mean()"
   ]
  },
  {
   "cell_type": "code",
   "execution_count": 16,
   "id": "199a3aa3-fc11-4f65-b18e-6e42c69fe110",
   "metadata": {},
   "outputs": [
    {
     "data": {
      "text/plain": [
       "5.0"
      ]
     },
     "execution_count": 16,
     "metadata": {},
     "output_type": "execute_result"
    }
   ],
   "source": [
    "cate"
   ]
  },
  {
   "cell_type": "markdown",
   "id": "5102b51d-55e4-4fe2-b04d-711ceda1794b",
   "metadata": {},
   "source": [
    "## No.8 データの分布の確認\n",
    "分析レポートを利用した営業と利用していない営業の共変量の分布を確認してください"
   ]
  },
  {
   "cell_type": "code",
   "execution_count": 17,
   "id": "20a17d53-eb88-402d-bf37-913815744ed2",
   "metadata": {},
   "outputs": [
    {
     "data": {
      "text/plain": [
       "<AxesSubplot:ylabel='Frequency'>"
      ]
     },
     "execution_count": 17,
     "metadata": {},
     "output_type": "execute_result"
    },
    {
     "data": {
      "image/png": "[encoded data removed]",
      "text/plain": [
       "<Figure size 432x288 with 1 Axes>"
      ]
     },
     "metadata": {
      "needs_background": "light"
     },
     "output_type": "display_data"
    }
   ],
   "source": [
    "df[df['t'] == 1]['x'].plot.hist(alpha=0.5)\n",
    "df[df['t'] == 0]['x'].plot.hist(alpha=0.5)"
   ]
  },
  {
   "cell_type": "markdown",
   "id": "f26fdae8-12cf-46b5-94f9-5753938338f7",
   "metadata": {},
   "source": [
    "## No.9 ATEの推定\n",
    "観測されるデータからATEを推定してください"
   ]
  },
  {
   "cell_type": "code",
   "execution_count": 18,
   "id": "36832d4a-81c8-4c77-ba5a-461c608190f1",
   "metadata": {},
   "outputs": [
    {
     "data": {
      "text/plain": [
       "4.434285714285714"
      ]
     },
     "execution_count": 18,
     "metadata": {},
     "output_type": "execute_result"
    }
   ],
   "source": [
    "df[df['t'] == 1]['y'].mean() - df[df['t'] == 0]['y'].mean()"
   ]
  },
  {
   "cell_type": "markdown",
   "id": "e9371064-3302-4842-8a79-c193f5a033b3",
   "metadata": {},
   "source": [
    "## No.10 t検定\n",
    "分析レポートの有無によって受注件数の差があるかどうかを，t検定を用いて確かめてください"
   ]
  },
  {
   "cell_type": "code",
   "execution_count": 19,
   "id": "ecfd5339-813c-4765-9ee8-250ce1ef1c02",
   "metadata": {},
   "outputs": [],
   "source": [
    "from scipy import stats\n",
    "\n",
    "tstat = stats.ttest_ind(df[df['t'] == 1]['y'], df[df['t'] == 0]['y'])"
   ]
  },
  {
   "cell_type": "code",
   "execution_count": 20,
   "id": "f45f69f4-f495-42c5-bea9-1faaa978bb1e",
   "metadata": {},
   "outputs": [
    {
     "data": {
      "text/plain": [
       "Ttest_indResult(statistic=2.5132868267830037, pvalue=0.014761372270597276)"
      ]
     },
     "execution_count": 20,
     "metadata": {},
     "output_type": "execute_result"
    }
   ],
   "source": [
    "tstat"
   ]
  },
  {
   "cell_type": "markdown",
   "id": "8f036d1d-ffd6-44ee-92f8-4e537fc4a218",
   "metadata": {},
   "source": [
    "## No.11 データの読み込み\n",
    "2つのcsvファイルを読み込み，データフレームに格納してください"
   ]
  },
  {
   "cell_type": "code",
   "execution_count": 32,
   "id": "366bb9f1-c814-409d-b640-3447fcf49ba9",
   "metadata": {},
   "outputs": [],
   "source": [
    "df_rct = pd.read_csv('./data/causal_knock2_rct.csv')"
   ]
  },
  {
   "cell_type": "code",
   "execution_count": 33,
   "id": "2ed626e2-8db8-4661-a6c7-f845d5c51d62",
   "metadata": {},
   "outputs": [
    {
     "data": {
      "text/html": [
       "<div>\n",
       "<style scoped>\n",
       "    .dataframe tbody tr th:only-of-type {\n",
       "        vertical-align: middle;\n",
       "    }\n",
       "\n",
       "    .dataframe tbody tr th {\n",
       "        vertical-align: top;\n",
       "    }\n",
       "\n",
       "    .dataframe thead th {\n",
       "        text-align: right;\n",
       "    }\n",
       "</style>\n",
       "<table border=\"1\" class=\"dataframe\">\n",
       "  <thead>\n",
       "    <tr style=\"text-align: right;\">\n",
       "      <th></th>\n",
       "      <th>y</th>\n",
       "      <th>t</th>\n",
       "      <th>x0</th>\n",
       "      <th>x1</th>\n",
       "      <th>x2</th>\n",
       "      <th>x3</th>\n",
       "    </tr>\n",
       "  </thead>\n",
       "  <tbody>\n",
       "    <tr>\n",
       "      <th>0</th>\n",
       "      <td>3500</td>\n",
       "      <td>1</td>\n",
       "      <td>4</td>\n",
       "      <td>14500</td>\n",
       "      <td>0</td>\n",
       "      <td>1</td>\n",
       "    </tr>\n",
       "    <tr>\n",
       "      <th>1</th>\n",
       "      <td>1000</td>\n",
       "      <td>0</td>\n",
       "      <td>5</td>\n",
       "      <td>7500</td>\n",
       "      <td>0</td>\n",
       "      <td>1</td>\n",
       "    </tr>\n",
       "    <tr>\n",
       "      <th>2</th>\n",
       "      <td>1500</td>\n",
       "      <td>1</td>\n",
       "      <td>0</td>\n",
       "      <td>3000</td>\n",
       "      <td>1</td>\n",
       "      <td>0</td>\n",
       "    </tr>\n",
       "    <tr>\n",
       "      <th>3</th>\n",
       "      <td>2500</td>\n",
       "      <td>1</td>\n",
       "      <td>3</td>\n",
       "      <td>9000</td>\n",
       "      <td>0</td>\n",
       "      <td>1</td>\n",
       "    </tr>\n",
       "    <tr>\n",
       "      <th>4</th>\n",
       "      <td>0</td>\n",
       "      <td>0</td>\n",
       "      <td>3</td>\n",
       "      <td>4000</td>\n",
       "      <td>1</td>\n",
       "      <td>0</td>\n",
       "    </tr>\n",
       "    <tr>\n",
       "      <th>...</th>\n",
       "      <td>...</td>\n",
       "      <td>...</td>\n",
       "      <td>...</td>\n",
       "      <td>...</td>\n",
       "      <td>...</td>\n",
       "      <td>...</td>\n",
       "    </tr>\n",
       "    <tr>\n",
       "      <th>595</th>\n",
       "      <td>3500</td>\n",
       "      <td>1</td>\n",
       "      <td>6</td>\n",
       "      <td>14000</td>\n",
       "      <td>0</td>\n",
       "      <td>1</td>\n",
       "    </tr>\n",
       "    <tr>\n",
       "      <th>596</th>\n",
       "      <td>0</td>\n",
       "      <td>0</td>\n",
       "      <td>1</td>\n",
       "      <td>9000</td>\n",
       "      <td>0</td>\n",
       "      <td>1</td>\n",
       "    </tr>\n",
       "    <tr>\n",
       "      <th>597</th>\n",
       "      <td>2500</td>\n",
       "      <td>1</td>\n",
       "      <td>3</td>\n",
       "      <td>7500</td>\n",
       "      <td>0</td>\n",
       "      <td>1</td>\n",
       "    </tr>\n",
       "    <tr>\n",
       "      <th>598</th>\n",
       "      <td>1500</td>\n",
       "      <td>1</td>\n",
       "      <td>5</td>\n",
       "      <td>9500</td>\n",
       "      <td>0</td>\n",
       "      <td>1</td>\n",
       "    </tr>\n",
       "    <tr>\n",
       "      <th>599</th>\n",
       "      <td>2000</td>\n",
       "      <td>0</td>\n",
       "      <td>5</td>\n",
       "      <td>5000</td>\n",
       "      <td>1</td>\n",
       "      <td>0</td>\n",
       "    </tr>\n",
       "  </tbody>\n",
       "</table>\n",
       "<p>600 rows × 6 columns</p>\n",
       "</div>"
      ],
      "text/plain": [
       "        y  t  x0     x1  x2  x3\n",
       "0    3500  1   4  14500   0   1\n",
       "1    1000  0   5   7500   0   1\n",
       "2    1500  1   0   3000   1   0\n",
       "3    2500  1   3   9000   0   1\n",
       "4       0  0   3   4000   1   0\n",
       "..    ... ..  ..    ...  ..  ..\n",
       "595  3500  1   6  14000   0   1\n",
       "596     0  0   1   9000   0   1\n",
       "597  2500  1   3   7500   0   1\n",
       "598  1500  1   5   9500   0   1\n",
       "599  2000  0   5   5000   1   0\n",
       "\n",
       "[600 rows x 6 columns]"
      ]
     },
     "execution_count": 33,
     "metadata": {},
     "output_type": "execute_result"
    }
   ],
   "source": [
    "df_rct"
   ]
  },
  {
   "cell_type": "code",
   "execution_count": 34,
   "id": "4f7a4c36-1e5a-4cf2-8b3d-b3d3d18c0bf7",
   "metadata": {},
   "outputs": [],
   "source": [
    "df_reg = pd.read_csv('./data/causal_knock2_reg.csv')"
   ]
  },
  {
   "cell_type": "markdown",
   "id": "0126e268-2751-403e-bee2-53e0da611c9d",
   "metadata": {},
   "source": [
    "## No.12 ATEの推定\n",
    "rctデータからATEを推定してください"
   ]
  },
  {
   "cell_type": "code",
   "execution_count": 35,
   "id": "6395c642-d8c6-4531-9f1c-dab22863d17f",
   "metadata": {},
   "outputs": [
    {
     "data": {
      "text/plain": [
       "901.4170602945262"
      ]
     },
     "execution_count": 35,
     "metadata": {},
     "output_type": "execute_result"
    }
   ],
   "source": [
    "df_rct[df_rct['t'] == 1]['y'].mean() - df_rct[df_rct['t'] == 0]['y'].mean()"
   ]
  },
  {
   "cell_type": "markdown",
   "id": "819dc2f5-c170-43c0-8646-58478606d2c9",
   "metadata": {},
   "source": [
    "## 不要な変数の削除\n",
    "重回帰モデルを作成する上で明らかに不要な変数が存在するので，データフレームからdropしてください"
   ]
  },
  {
   "cell_type": "code",
   "execution_count": 36,
   "id": "495b6152-5c57-4bfc-a68a-f5538536b854",
   "metadata": {},
   "outputs": [],
   "source": [
    "df_rct = df_rct.drop(['x3'], axis=1)\n",
    "df_reg = df_reg.drop(['x3'], axis=1)"
   ]
  },
  {
   "cell_type": "markdown",
   "id": "afd43027-0141-4ddd-9cf0-2fa6b1863ce0",
   "metadata": {},
   "source": [
    "## No.14 DAGの描画\n",
    "因果の向きを考えて，regデータからDAGを描画してください"
   ]
  },
  {
   "cell_type": "code",
   "execution_count": 37,
   "id": "1dd2a633-d62d-42c4-be99-01ba9b5891a6",
   "metadata": {},
   "outputs": [],
   "source": [
    "digraph = nx.from_edgelist([('x1', 'y'), ('t', 'y'), ('x0', 'x1'), ('x1', 't'), ('t', 'x2'), ('x2', 'y')], create_using=nx.DiGraph)"
   ]
  },
  {
   "cell_type": "code",
   "execution_count": 38,
   "id": "926cc8a7-e689-4045-a6ec-b69c01bc3d8d",
   "metadata": {},
   "outputs": [
    {
     "data": {
      "image/png": "[encoded data removed]",
      "text/plain": [
       "<Figure size 432x288 with 1 Axes>"
      ]
     },
     "metadata": {},
     "output_type": "display_data"
    }
   ],
   "source": [
    "nx.draw(\n",
    "    digraph,\n",
    "    with_labels=True,\n",
    "    node_size=3000,\n",
    "    node_color=\"#ffff8f\",\n",
    ")"
   ]
  },
  {
   "cell_type": "markdown",
   "id": "860368b5-7fdc-43bd-99bb-9d02b584294f",
   "metadata": {},
   "source": [
    "## モデルの議論1\n",
    "すべての共変量を用いて重回帰モデルを作成し，結果を出力してください"
   ]
  },
  {
   "cell_type": "code",
   "execution_count": 29,
   "id": "d92c4195-d555-4f22-b071-a2b67fd4cbbe",
   "metadata": {},
   "outputs": [
    {
     "name": "stdout",
     "output_type": "stream",
     "text": [
      "Requirement already satisfied: statsmodels in /Users/mzntaka0/.pyenv/versions/anaconda3-2022.05/lib/python3.9/site-packages (0.13.2)\n",
      "Requirement already satisfied: packaging>=21.3 in /Users/mzntaka0/.pyenv/versions/anaconda3-2022.05/lib/python3.9/site-packages (from statsmodels) (23.1)\n",
      "Requirement already satisfied: patsy>=0.5.2 in /Users/mzntaka0/.pyenv/versions/anaconda3-2022.05/lib/python3.9/site-packages (from statsmodels) (0.5.2)\n",
      "Requirement already satisfied: pandas>=0.25 in /Users/mzntaka0/.pyenv/versions/anaconda3-2022.05/lib/python3.9/site-packages (from statsmodels) (1.4.2)\n",
      "Requirement already satisfied: numpy>=1.17 in /Users/mzntaka0/.pyenv/versions/anaconda3-2022.05/lib/python3.9/site-packages (from statsmodels) (1.21.5)\n",
      "Requirement already satisfied: scipy>=1.3 in /Users/mzntaka0/.pyenv/versions/anaconda3-2022.05/lib/python3.9/site-packages (from statsmodels) (1.7.3)\n",
      "Requirement already satisfied: python-dateutil>=2.8.1 in /Users/mzntaka0/.pyenv/versions/anaconda3-2022.05/lib/python3.9/site-packages (from pandas>=0.25->statsmodels) (2.8.2)\n",
      "Requirement already satisfied: pytz>=2020.1 in /Users/mzntaka0/.pyenv/versions/anaconda3-2022.05/lib/python3.9/site-packages (from pandas>=0.25->statsmodels) (2021.3)\n",
      "Requirement already satisfied: six in /Users/mzntaka0/.pyenv/versions/anaconda3-2022.05/lib/python3.9/site-packages (from patsy>=0.5.2->statsmodels) (1.16.0)\n",
      "\u001b[33mWARNING: Running pip as the 'root' user can result in broken permissions and conflicting behaviour with the system package manager. It is recommended to use a virtual environment instead: https://pip.pypa.io/warnings/venv\u001b[0m\u001b[33m\n",
      "\u001b[0m\n",
      "\u001b[1m[\u001b[0m\u001b[34;49mnotice\u001b[0m\u001b[1;39;49m]\u001b[0m\u001b[39;49m A new release of pip is available: \u001b[0m\u001b[31;49m23.0\u001b[0m\u001b[39;49m -> \u001b[0m\u001b[32;49m23.1.2\u001b[0m\n",
      "\u001b[1m[\u001b[0m\u001b[34;49mnotice\u001b[0m\u001b[1;39;49m]\u001b[0m\u001b[39;49m To update, run: \u001b[0m\u001b[32;49mpip install --upgrade pip\u001b[0m\n"
     ]
    }
   ],
   "source": [
    "!pip install statsmodels"
   ]
  },
  {
   "cell_type": "code",
   "execution_count": 41,
   "id": "d47a4a8d-6df2-48b4-906b-da6d043ec05d",
   "metadata": {},
   "outputs": [
    {
     "data": {
      "text/html": [
       "<div>\n",
       "<style scoped>\n",
       "    .dataframe tbody tr th:only-of-type {\n",
       "        vertical-align: middle;\n",
       "    }\n",
       "\n",
       "    .dataframe tbody tr th {\n",
       "        vertical-align: top;\n",
       "    }\n",
       "\n",
       "    .dataframe thead th {\n",
       "        text-align: right;\n",
       "    }\n",
       "</style>\n",
       "<table border=\"1\" class=\"dataframe\">\n",
       "  <thead>\n",
       "    <tr style=\"text-align: right;\">\n",
       "      <th></th>\n",
       "      <th>y</th>\n",
       "      <th>t</th>\n",
       "      <th>x0</th>\n",
       "      <th>x1</th>\n",
       "      <th>x2</th>\n",
       "    </tr>\n",
       "  </thead>\n",
       "  <tbody>\n",
       "    <tr>\n",
       "      <th>0</th>\n",
       "      <td>3500</td>\n",
       "      <td>1</td>\n",
       "      <td>4</td>\n",
       "      <td>14500</td>\n",
       "      <td>0</td>\n",
       "    </tr>\n",
       "    <tr>\n",
       "      <th>1</th>\n",
       "      <td>1000</td>\n",
       "      <td>0</td>\n",
       "      <td>5</td>\n",
       "      <td>7500</td>\n",
       "      <td>0</td>\n",
       "    </tr>\n",
       "    <tr>\n",
       "      <th>2</th>\n",
       "      <td>1500</td>\n",
       "      <td>1</td>\n",
       "      <td>0</td>\n",
       "      <td>3000</td>\n",
       "      <td>1</td>\n",
       "    </tr>\n",
       "    <tr>\n",
       "      <th>3</th>\n",
       "      <td>2500</td>\n",
       "      <td>1</td>\n",
       "      <td>3</td>\n",
       "      <td>9000</td>\n",
       "      <td>0</td>\n",
       "    </tr>\n",
       "    <tr>\n",
       "      <th>4</th>\n",
       "      <td>0</td>\n",
       "      <td>0</td>\n",
       "      <td>3</td>\n",
       "      <td>4000</td>\n",
       "      <td>1</td>\n",
       "    </tr>\n",
       "    <tr>\n",
       "      <th>...</th>\n",
       "      <td>...</td>\n",
       "      <td>...</td>\n",
       "      <td>...</td>\n",
       "      <td>...</td>\n",
       "      <td>...</td>\n",
       "    </tr>\n",
       "    <tr>\n",
       "      <th>595</th>\n",
       "      <td>3500</td>\n",
       "      <td>1</td>\n",
       "      <td>6</td>\n",
       "      <td>14000</td>\n",
       "      <td>0</td>\n",
       "    </tr>\n",
       "    <tr>\n",
       "      <th>596</th>\n",
       "      <td>0</td>\n",
       "      <td>0</td>\n",
       "      <td>1</td>\n",
       "      <td>9000</td>\n",
       "      <td>0</td>\n",
       "    </tr>\n",
       "    <tr>\n",
       "      <th>597</th>\n",
       "      <td>2500</td>\n",
       "      <td>1</td>\n",
       "      <td>3</td>\n",
       "      <td>7500</td>\n",
       "      <td>0</td>\n",
       "    </tr>\n",
       "    <tr>\n",
       "      <th>598</th>\n",
       "      <td>1500</td>\n",
       "      <td>1</td>\n",
       "      <td>5</td>\n",
       "      <td>9500</td>\n",
       "      <td>0</td>\n",
       "    </tr>\n",
       "    <tr>\n",
       "      <th>599</th>\n",
       "      <td>2000</td>\n",
       "      <td>0</td>\n",
       "      <td>5</td>\n",
       "      <td>5000</td>\n",
       "      <td>1</td>\n",
       "    </tr>\n",
       "  </tbody>\n",
       "</table>\n",
       "<p>600 rows × 5 columns</p>\n",
       "</div>"
      ],
      "text/plain": [
       "        y  t  x0     x1  x2\n",
       "0    3500  1   4  14500   0\n",
       "1    1000  0   5   7500   0\n",
       "2    1500  1   0   3000   1\n",
       "3    2500  1   3   9000   0\n",
       "4       0  0   3   4000   1\n",
       "..    ... ..  ..    ...  ..\n",
       "595  3500  1   6  14000   0\n",
       "596     0  0   1   9000   0\n",
       "597  2500  1   3   7500   0\n",
       "598  1500  1   5   9500   0\n",
       "599  2000  0   5   5000   1\n",
       "\n",
       "[600 rows x 5 columns]"
      ]
     },
     "execution_count": 41,
     "metadata": {},
     "output_type": "execute_result"
    }
   ],
   "source": [
    "df_rct"
   ]
  },
  {
   "cell_type": "code",
   "execution_count": null,
   "id": "33aa83f6-5922-4b54-a472-42124a02dd72",
   "metadata": {},
   "outputs": [],
   "source": []
  },
  {
   "cell_type": "code",
   "execution_count": 57,
   "id": "d04a4339-4ac3-4803-bf6c-043474e6f89b",
   "metadata": {},
   "outputs": [
    {
     "name": "stdout",
     "output_type": "stream",
     "text": [
      "                            OLS Regression Results                            \n",
      "==============================================================================\n",
      "Dep. Variable:                      y   R-squared:                       0.445\n",
      "Model:                            OLS   Adj. R-squared:                  0.441\n",
      "Method:                 Least Squares   F-statistic:                     119.1\n",
      "Date:                Fri, 09 Jun 2023   Prob (F-statistic):           1.42e-74\n",
      "Time:                        23:19:03   Log-Likelihood:                -4844.3\n",
      "No. Observations:                 600   AIC:                             9699.\n",
      "Df Residuals:                     595   BIC:                             9721.\n",
      "Df Model:                           4                                         \n",
      "Covariance Type:            nonrobust                                         \n",
      "==============================================================================\n",
      "                 coef    std err          t      P>|t|      [0.025      0.975]\n",
      "------------------------------------------------------------------------------\n",
      "const       -834.1745    127.614     -6.537      0.000   -1084.804    -583.545\n",
      "t           1216.9743     67.915     17.919      0.000    1083.592    1350.357\n",
      "x0           -14.0297     16.197     -0.866      0.387     -45.841      17.781\n",
      "x1             0.1485      0.012     12.512      0.000       0.125       0.172\n",
      "x2          1099.5461     75.735     14.518      0.000     950.806    1248.286\n",
      "==============================================================================\n",
      "Omnibus:                      164.016   Durbin-Watson:                   1.895\n",
      "Prob(Omnibus):                  0.000   Jarque-Bera (JB):               27.949\n",
      "Skew:                          -0.025   Prob(JB):                     8.53e-07\n",
      "Kurtosis:                       1.944   Cond. No.                     3.59e+04\n",
      "==============================================================================\n",
      "\n",
      "Notes:\n",
      "[1] Standard Errors assume that the covariance matrix of the errors is correctly specified.\n",
      "[2] The condition number is large, 3.59e+04. This might indicate that there are\n",
      "strong multicollinearity or other numerical problems.\n"
     ]
    }
   ],
   "source": [
    "import statsmodels.api as sm\n",
    "\n",
    "# NOTE: https://zenn.dev/s1ok69oo/articles/f0b91f19da2812\n",
    "# 説明変数\n",
    "X = df_rct[[\"t\", \"x0\", \"x1\", \"x2\"]]\n",
    "X = sm.add_constant(X)\n",
    "# 被説明変数\n",
    "y = df_rct[\"y\"]\n",
    "\n",
    "# モデルの設定(OLS：最小二乗法を指定)\n",
    "model = sm.OLS(y, X)\n",
    " \n",
    "# 回帰分析の実行\n",
    "results = model.fit()\n",
    "\n",
    "# 結果の詳細を表示\n",
    "print(results.summary())"
   ]
  },
  {
   "cell_type": "markdown",
   "id": "b4089464-6d22-4371-874f-e5a0fc7096b5",
   "metadata": {},
   "source": [
    "## モデルの議論2\n",
    "共変量を$t, x_1, x_2$として重回帰モデルを作成し，結果を出力してください"
   ]
  },
  {
   "cell_type": "code",
   "execution_count": 59,
   "id": "836378af-0b3a-40d3-b818-28474b029540",
   "metadata": {},
   "outputs": [
    {
     "name": "stdout",
     "output_type": "stream",
     "text": [
      "                            OLS Regression Results                            \n",
      "==============================================================================\n",
      "Dep. Variable:                      y   R-squared:                       0.444\n",
      "Model:                            OLS   Adj. R-squared:                  0.441\n",
      "Method:                 Least Squares   F-statistic:                     158.6\n",
      "Date:                Fri, 09 Jun 2023   Prob (F-statistic):           1.51e-75\n",
      "Time:                        23:19:09   Log-Likelihood:                -4844.6\n",
      "No. Observations:                 600   AIC:                             9697.\n",
      "Df Residuals:                     596   BIC:                             9715.\n",
      "Df Model:                           3                                         \n",
      "Covariance Type:            nonrobust                                         \n",
      "==============================================================================\n",
      "                 coef    std err          t      P>|t|      [0.025      0.975]\n",
      "------------------------------------------------------------------------------\n",
      "const       -875.9996    118.101     -7.417      0.000   -1107.945    -644.054\n",
      "t           1213.2065     67.762     17.904      0.000    1080.126    1346.287\n",
      "x1             0.1489      0.012     12.552      0.000       0.126       0.172\n",
      "x2          1100.7928     75.705     14.541      0.000     952.111    1249.474\n",
      "==============================================================================\n",
      "Omnibus:                      156.370   Durbin-Watson:                   1.904\n",
      "Prob(Omnibus):                  0.000   Jarque-Bera (JB):               27.475\n",
      "Skew:                          -0.024   Prob(JB):                     1.08e-06\n",
      "Kurtosis:                       1.953   Cond. No.                     3.42e+04\n",
      "==============================================================================\n",
      "\n",
      "Notes:\n",
      "[1] Standard Errors assume that the covariance matrix of the errors is correctly specified.\n",
      "[2] The condition number is large, 3.42e+04. This might indicate that there are\n",
      "strong multicollinearity or other numerical problems.\n"
     ]
    }
   ],
   "source": [
    "# 必要なライブラリのインポート\n",
    "import statsmodels.api as sm\n",
    "\n",
    "# NOTE: https://zenn.dev/s1ok69oo/articles/f0b91f19da2812\n",
    "# 説明変数\n",
    "X = df_rct[[\"t\", \"x1\", \"x2\"]]\n",
    "X = sm.add_constant(X)\n",
    "# 被説明変数\n",
    "y = df_rct[\"y\"]\n",
    "\n",
    "# モデルの設定(OLS：最小二乗法を指定)\n",
    "model = sm.OLS(y, X)\n",
    " \n",
    "# 回帰分析の実行\n",
    "results = model.fit()\n",
    "\n",
    "# 結果の詳細を表示\n",
    "print(results.summary())"
   ]
  },
  {
   "cell_type": "markdown",
   "id": "23880583-fcc8-4391-b6f6-2007388895d3",
   "metadata": {},
   "source": [
    "## モデルの議論3\n",
    "共変量を$t, x_1$として重回帰モデルを作成し，結果を出力してください"
   ]
  },
  {
   "cell_type": "code",
   "execution_count": 60,
   "id": "97ec378e-c007-4522-bf9f-1cfe9d079db0",
   "metadata": {},
   "outputs": [
    {
     "name": "stdout",
     "output_type": "stream",
     "text": [
      "                            OLS Regression Results                            \n",
      "==============================================================================\n",
      "Dep. Variable:                      y   R-squared:                       0.247\n",
      "Model:                            OLS   Adj. R-squared:                  0.244\n",
      "Method:                 Least Squares   F-statistic:                     97.69\n",
      "Date:                Fri, 09 Jun 2023   Prob (F-statistic):           1.98e-37\n",
      "Time:                        23:19:15   Log-Likelihood:                -4935.7\n",
      "No. Observations:                 600   AIC:                             9877.\n",
      "Df Residuals:                     597   BIC:                             9891.\n",
      "Df Model:                           2                                         \n",
      "Covariance Type:            nonrobust                                         \n",
      "==============================================================================\n",
      "                 coef    std err          t      P>|t|      [0.025      0.975]\n",
      "------------------------------------------------------------------------------\n",
      "const        136.9902    110.905      1.235      0.217     -80.822     354.802\n",
      "t            878.3933     74.115     11.852      0.000     732.836    1023.950\n",
      "x1             0.0888      0.013      6.867      0.000       0.063       0.114\n",
      "==============================================================================\n",
      "Omnibus:                       29.412   Durbin-Watson:                   1.993\n",
      "Prob(Omnibus):                  0.000   Jarque-Bera (JB):               22.303\n",
      "Skew:                           0.375   Prob(JB):                     1.44e-05\n",
      "Kurtosis:                       2.425   Cond. No.                     2.53e+04\n",
      "==============================================================================\n",
      "\n",
      "Notes:\n",
      "[1] Standard Errors assume that the covariance matrix of the errors is correctly specified.\n",
      "[2] The condition number is large, 2.53e+04. This might indicate that there are\n",
      "strong multicollinearity or other numerical problems.\n"
     ]
    }
   ],
   "source": [
    "# 必要なライブラリのインポート\n",
    "import statsmodels.api as sm\n",
    "\n",
    "# NOTE: https://zenn.dev/s1ok69oo/articles/f0b91f19da2812\n",
    "# 説明変数\n",
    "X = df_rct[[\"t\", \"x1\"]]\n",
    "X = sm.add_constant(X)\n",
    "# 被説明変数\n",
    "y = df_rct[\"y\"]\n",
    "\n",
    "# モデルの設定(OLS：最小二乗法を指定)\n",
    "model = sm.OLS(y, X)\n",
    " \n",
    "# 回帰分析の実行\n",
    "results = model.fit()\n",
    "\n",
    "# 結果の詳細を表示\n",
    "print(results.summary())"
   ]
  },
  {
   "cell_type": "markdown",
   "id": "ab10dbff-8d74-4f73-9867-5c9b5b80a515",
   "metadata": {},
   "source": [
    "## モデルの議論4\n",
    "共変量を$t$として重回帰モデルを作成し，結果を出力してください"
   ]
  },
  {
   "cell_type": "code",
   "execution_count": 61,
   "id": "b7a646e5-777b-49ac-b675-951003ccf9c0",
   "metadata": {},
   "outputs": [
    {
     "name": "stdout",
     "output_type": "stream",
     "text": [
      "                            OLS Regression Results                            \n",
      "==============================================================================\n",
      "Dep. Variable:                      y   R-squared:                       0.187\n",
      "Model:                            OLS   Adj. R-squared:                  0.186\n",
      "Method:                 Least Squares   F-statistic:                     137.6\n",
      "Date:                Fri, 09 Jun 2023   Prob (F-statistic):           9.56e-29\n",
      "Time:                        23:19:22   Log-Likelihood:                -4958.5\n",
      "No. Observations:                 600   AIC:                             9921.\n",
      "Df Residuals:                     598   BIC:                             9930.\n",
      "Df Model:                           1                                         \n",
      "Covariance Type:            nonrobust                                         \n",
      "==============================================================================\n",
      "                 coef    std err          t      P>|t|      [0.025      0.975]\n",
      "------------------------------------------------------------------------------\n",
      "const        806.7797     54.787     14.726      0.000     699.181     914.378\n",
      "t            901.4171     76.843     11.731      0.000     750.502    1052.332\n",
      "==============================================================================\n",
      "Omnibus:                       23.277   Durbin-Watson:                   1.966\n",
      "Prob(Omnibus):                  0.000   Jarque-Bera (JB):               21.183\n",
      "Skew:                           0.401   Prob(JB):                     2.51e-05\n",
      "Kurtosis:                       2.549   Cond. No.                         2.64\n",
      "==============================================================================\n",
      "\n",
      "Notes:\n",
      "[1] Standard Errors assume that the covariance matrix of the errors is correctly specified.\n"
     ]
    }
   ],
   "source": [
    "# 必要なライブラリのインポート\n",
    "import statsmodels.api as sm\n",
    "\n",
    "# NOTE: https://zenn.dev/s1ok69oo/articles/f0b91f19da2812\n",
    "# 説明変数\n",
    "X = df_rct[[\"t\"]]\n",
    "X = sm.add_constant(X)\n",
    "# 被説明変数\n",
    "y = df_rct[\"y\"]\n",
    "\n",
    "# モデルの設定(OLS：最小二乗法を指定)\n",
    "model = sm.OLS(y, X)\n",
    " \n",
    "# 回帰分析の実行\n",
    "results = model.fit()\n",
    "\n",
    "# 結果の詳細を表示\n",
    "print(results.summary())"
   ]
  },
  {
   "cell_type": "markdown",
   "id": "39dbddaf-b8a9-40c0-b099-38718dedf796",
   "metadata": {},
   "source": [
    "## モデルの議論5\n",
    "共変量を$t, x_1, t \\cdot x_1$として重回帰モデルを作成し，結果を出力してください"
   ]
  },
  {
   "cell_type": "code",
   "execution_count": 62,
   "id": "84f2bbbb-61e9-4489-92b2-f81facb9567e",
   "metadata": {},
   "outputs": [
    {
     "name": "stdout",
     "output_type": "stream",
     "text": [
      "                            OLS Regression Results                            \n",
      "==============================================================================\n",
      "Dep. Variable:                      y   R-squared:                       0.251\n",
      "Model:                            OLS   Adj. R-squared:                  0.247\n",
      "Method:                 Least Squares   F-statistic:                     66.60\n",
      "Date:                Fri, 09 Jun 2023   Prob (F-statistic):           3.77e-37\n",
      "Time:                        23:19:27   Log-Likelihood:                -4933.9\n",
      "No. Observations:                 600   AIC:                             9876.\n",
      "Df Residuals:                     596   BIC:                             9893.\n",
      "Df Model:                           3                                         \n",
      "Covariance Type:            nonrobust                                         \n",
      "==============================================================================\n",
      "                 coef    std err          t      P>|t|      [0.025      0.975]\n",
      "------------------------------------------------------------------------------\n",
      "const        324.2642    148.544      2.183      0.029      32.530     615.998\n",
      "t            504.2239    211.335      2.386      0.017      89.172     919.276\n",
      "x1             0.0640      0.018      3.474      0.001       0.028       0.100\n",
      "t_x1           0.0488      0.026      1.890      0.059      -0.002       0.099\n",
      "==============================================================================\n",
      "Omnibus:                       28.840   Durbin-Watson:                   1.984\n",
      "Prob(Omnibus):                  0.000   Jarque-Bera (JB):               23.160\n",
      "Skew:                           0.395   Prob(JB):                     9.35e-06\n",
      "Kurtosis:                       2.450   Cond. No.                     6.18e+04\n",
      "==============================================================================\n",
      "\n",
      "Notes:\n",
      "[1] Standard Errors assume that the covariance matrix of the errors is correctly specified.\n",
      "[2] The condition number is large, 6.18e+04. This might indicate that there are\n",
      "strong multicollinearity or other numerical problems.\n"
     ]
    }
   ],
   "source": [
    "# 必要なライブラリのインポート\n",
    "import statsmodels.api as sm\n",
    "\n",
    "# NOTE: https://zenn.dev/s1ok69oo/articles/f0b91f19da2812\n",
    "# 説明変数\n",
    "df_rct['t_x1'] = df_rct.apply(lambda row: row['t'] * row['x1'], axis=1)\n",
    "X = df_rct[[\"t\", \"x1\", 't_x1']]\n",
    "X = sm.add_constant(X)\n",
    "# 被説明変数\n",
    "y = df_rct[\"y\"]\n",
    "\n",
    "# モデルの設定(OLS：最小二乗法を指定)\n",
    "model = sm.OLS(y, X)\n",
    " \n",
    "# 回帰分析の実行\n",
    "results = model.fit()\n",
    "\n",
    "# 結果の詳細を表示\n",
    "print(results.summary())"
   ]
  },
  {
   "cell_type": "markdown",
   "id": "ac6512e4-0279-4081-bb1d-8e51aa75f286",
   "metadata": {},
   "source": [
    "## 推定結果の可視化\n",
    "モデル1~5の中で最も妥当なモデルを選び，各偏回帰係数のエラーバーを出力してください"
   ]
  },
  {
   "cell_type": "code",
   "execution_count": 65,
   "id": "a3d011b4-d59b-4fe8-96e2-dee8f40acdab",
   "metadata": {},
   "outputs": [
    {
     "data": {
      "text/plain": [
       "<BarContainer object of 3 artists>"
      ]
     },
     "execution_count": 65,
     "metadata": {},
     "output_type": "execute_result"
    },
    {
     "data": {
      "image/png": "[encoded data removed]",
      "text/plain": [
       "<Figure size 432x288 with 1 Axes>"
      ]
     },
     "metadata": {
      "needs_background": "light"
     },
     "output_type": "display_data"
    }
   ],
   "source": [
    "# 必要なライブラリのインポート\n",
    "import statsmodels.api as sm\n",
    "import matplotlib.pyplot as plt\n",
    "\n",
    "# NOTE: https://zenn.dev/s1ok69oo/articles/f0b91f19da2812\n",
    "# 説明変数\n",
    "X = df_rct[[\"t\", \"x1\"]]\n",
    "X = sm.add_constant(X)\n",
    "# 被説明変数\n",
    "y = df_rct[\"y\"]\n",
    "\n",
    "# モデルの設定(OLS：最小二乗法を指定)\n",
    "model = sm.OLS(y, X)\n",
    " \n",
    "# 回帰分析の実行\n",
    "results = model.fit()\n",
    "\n",
    "\n",
    "plt.bar(x=X.columns, height=results.params, yerr=results.bse)"
   ]
  },
  {
   "cell_type": "code",
   "execution_count": null,
   "id": "1084bfd8-939c-4112-a376-7b3a04a8cbdf",
   "metadata": {},
   "outputs": [],
   "source": []
  }
 ],
 "metadata": {
  "kernelspec": {
   "display_name": "Python 3 (ipykernel)",
   "language": "python",
   "name": "python3"
  },
  "language_info": {
   "codemirror_mode": {
    "name": "ipython",
    "version": 3
   },
   "file_extension": ".py",
   "mimetype": "text/x-python",
   "name": "python",
   "nbconvert_exporter": "python",
   "pygments_lexer": "ipython3",
   "version": "3.9.12"
  }
 },
 "nbformat": 4,
 "nbformat_minor": 5
}
